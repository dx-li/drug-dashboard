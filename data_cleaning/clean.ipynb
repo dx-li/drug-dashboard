{
 "cells": [
  {
   "cell_type": "code",
   "execution_count": 1,
   "metadata": {},
   "outputs": [],
   "source": [
    "import pandas as pd"
   ]
  },
  {
   "cell_type": "code",
   "execution_count": 2,
   "metadata": {},
   "outputs": [],
   "source": [
    "final = pd.DataFrame()\n",
    "for year in range(2013, 2018):\n",
    "    df = pd.read_excel(f'../data/Drug Utilization Report - {year}/Drug Utilization Report Data - {year}.xlsx', sheet_name=3)\n",
    "    df['Year'] = year\n",
    "    df['DEA DRUG SCHEDULE'] = df['DEA DRUG SCHEDULE'].astype(int, errors='ignore')\n",
    "    df.rename(columns={'DEA DRUG SCHEDULE':'DEA_DRUG_SCHEDULE', \n",
    "                       'PRESCRIPTION COUNT (#)':'PRESCRIPTION_COUNT', \n",
    "                       'PRESCRIPTION QUANTITY (#)': 'PRESCRIPTION_QUANTITY',\n",
    "                       'PATIENT COUNTY':'PATIENT_COUNTY',\n",
    "                       'AHFS DESCRIPTION':'AHFS_DESCRIPTION',\n",
    "                       'PATIENT STATE':'PATIENT_STATE',\n",
    "                       'DRUG NAME/STRENGTH':'DRUG_NAME_STRENGTH'}, inplace=True)\n",
    "    final = pd.concat([final, df], ignore_index=True)"
   ]
  },
  {
   "cell_type": "code",
   "execution_count": 3,
   "metadata": {},
   "outputs": [],
   "source": [
    "final_age = pd.DataFrame()\n",
    "for year in range(2018, 2023):\n",
    "    if year == 2019:\n",
    "        df = pd.read_excel(f'../data/Drug Utilization Report - {year}/{year}_Michigan_Drug_Utilization_Report_FINAL.xlsb', sheet_name='Patient County')\n",
    "    elif year >= 2021:\n",
    "        df = pd.read_excel(f'../data/Drug Utilization Report - {year}/{year}_Michigan_Drug_Utilization_Report_FINAL.xlsb', sheet_name='Patient Zip and County')\n",
    "        df.rename(columns={'PATIENT ZIP':'PATIENT_ZIP'}, inplace=True)\n",
    "    else:\n",
    "        df = pd.read_excel(f'../data/Drug Utilization Report - {year}/{year}_Michigan_Drug_Utilization_Report_FINAL.xlsx', sheet_name='Patient County')\n",
    "\n",
    "    df['DRUG SCHEDULE'] = df['DRUG SCHEDULE'].str.split().str[-1].astype(int, errors='ignore')\n",
    "    df['Year'] = year\n",
    "    df.rename(columns={'DRUG SCHEDULE':'DEA_DRUG_SCHEDULE', \n",
    "                    'PRESCRIPTION COUNT':'PRESCRIPTION_COUNT', \n",
    "                    'PRESCRIPTION QUANTITY (DOSAGE UNITS)':'PRESCRIPTION_QUANTITY',\n",
    "                    'PATIENT COUNTY':'PATIENT_COUNTY',\n",
    "                    'PATIENT STATE':'PATIENT_STATE',\n",
    "                    'PATIENT COUNT':'PATIENT_COUNT',\n",
    "                    'AHFS DESCRIPTION':'AHFS_DESCRIPTION',\n",
    "                    'DRUG NAME/STRENGTH':'DRUG_NAME_STRENGTH',\n",
    "                    'AGE RANGE':'AGE_RANGE',\n",
    "                    'AVERAGE DAYS SUPPLY':'AVERAGE_DAYS_SUPPLY',\n",
    "                    'DAYS SUPPLY':'DAYS_SUPPLY',\n",
    "                    'AVERAGE DAILY MMEs (*ONLY CALCULATED FOR OPIATE AGONISTS AND OPIATE PARTIAL AGONISTS)': 'AVERAGE_DAILY_MMEs',\n",
    "                    'PRESCRIPTION COUNT GREATER THAN OR EQUAL TO 90 MMEs (*ONLY CALCULATED FOR OPIATE AGONISTS AND OPIATE PARTIAL AGONISTS)': 'PRESCRIPTION_COUNT_GREATER_THAN_OR_EQUAL_TO_90_MMEs',\n",
    "                    }, inplace=True)\n",
    "    agg_df = df.groupby(['PATIENT_COUNTY', 'PATIENT_STATE', 'DRUG_NAME_STRENGTH']).agg({'DEA_DRUG_SCHEDULE': 'first', 'AHFS_DESCRIPTION':'first', 'PRESCRIPTION_COUNT': 'sum', 'PRESCRIPTION_QUANTITY': 'sum', 'Year':'first'}).reset_index()\n",
    "    agg_df['DEA_DRUG_SCHEDULE'] = agg_df['DEA_DRUG_SCHEDULE'].astype(int, errors='ignore')\n",
    "    final = pd.concat([final, agg_df], ignore_index=True)\n",
    "    final_age = pd.concat([final_age, df], ignore_index=True)"
   ]
  },
  {
   "cell_type": "code",
   "execution_count": 4,
   "metadata": {},
   "outputs": [],
   "source": [
    "final = final.loc[~final['PATIENT_COUNTY'].isna()]\n",
    "final_age = final_age.loc[~final_age['PATIENT_COUNTY'].isna()]"
   ]
  },
  {
   "cell_type": "code",
   "execution_count": 5,
   "metadata": {},
   "outputs": [
    {
     "data": {
      "text/plain": [
       "1879759"
      ]
     },
     "execution_count": 5,
     "metadata": {},
     "output_type": "execute_result"
    }
   ],
   "source": [
    "import sqlite3\n",
    "conn = sqlite3.connect('../data/michigan_drug.db')\n",
    "final.to_sql('patient', conn, if_exists='replace', index=False)\n",
    "final_age.to_sql('patient_with_age', conn, if_exists='replace', index=False)"
   ]
  },
  {
   "cell_type": "code",
   "execution_count": 6,
   "metadata": {},
   "outputs": [],
   "source": [
    "conn.commit()\n",
    "conn.close()"
   ]
  },
  {
   "cell_type": "code",
   "execution_count": 7,
   "metadata": {},
   "outputs": [
    {
     "name": "stdout",
     "output_type": "stream",
     "text": [
      "<class 'pandas.core.frame.DataFrame'>\n",
      "Index: 1879759 entries, 0 to 1879762\n",
      "Data columns (total 15 columns):\n",
      " #   Column                                               Dtype  \n",
      "---  ------                                               -----  \n",
      " 0   PATIENT_COUNTY                                       object \n",
      " 1   PATIENT_STATE                                        object \n",
      " 2   AGE_RANGE                                            object \n",
      " 3   DRUG_NAME_STRENGTH                                   object \n",
      " 4   DEA_DRUG_SCHEDULE                                    object \n",
      " 5   AHFS_DESCRIPTION                                     object \n",
      " 6   PRESCRIPTION_COUNT                                   int64  \n",
      " 7   PRESCRIPTION_QUANTITY                                float64\n",
      " 8   PATIENT_COUNT                                        float64\n",
      " 9   AVERAGE_DAYS_SUPPLY                                  float64\n",
      " 10  DAYS_SUPPLY                                          float64\n",
      " 11  AVERAGE_DAILY_MMEs                                   float64\n",
      " 12  PRESCRIPTION_COUNT_GREATER_THAN_OR_EQUAL_TO_90_MMEs  float64\n",
      " 13  Year                                                 int64  \n",
      " 14  PATIENT_ZIP                                          object \n",
      "dtypes: float64(6), int64(2), object(7)\n",
      "memory usage: 229.5+ MB\n"
     ]
    }
   ],
   "source": [
    "final_age.info()"
   ]
  },
  {
   "cell_type": "code",
   "execution_count": 12,
   "metadata": {},
   "outputs": [
    {
     "name": "stdout",
     "output_type": "stream",
     "text": [
      "{'patient': ['PATIENT_COUNTY', 'PATIENT_STATE', 'DRUG_NAME_STRENGTH', 'DEA_DRUG_SCHEDULE', 'AHFS_DESCRIPTION', 'PRESCRIPTION_COUNT', 'PRESCRIPTION_QUANTITY', 'Year'], 'patient_with_age': ['PATIENT_COUNTY', 'PATIENT_STATE', 'AGE_RANGE', 'DRUG_NAME_STRENGTH', 'DEA_DRUG_SCHEDULE', 'AHFS_DESCRIPTION', 'PRESCRIPTION_COUNT', 'PRESCRIPTION_QUANTITY', 'PATIENT_COUNT', 'AVERAGE_DAYS_SUPPLY', 'DAYS_SUPPLY', 'AVERAGE_DAILY_MMEs', 'PRESCRIPTION_COUNT_GREATER_THAN_OR_EQUAL_TO_90_MMEs', 'Year', 'PATIENT_ZIP']}\n"
     ]
    }
   ],
   "source": [
    "import sqlite3\n",
    "conn = sqlite3.connect('../data/michigan_drug.db')\n",
    "cursor = conn.cursor()\n",
    "cursor.execute(\"SELECT name FROM sqlite_master WHERE type='table';\")\n",
    "tables = cursor.fetchall()\n",
    "schema = {}\n",
    "for table in tables:\n",
    "    table_name = table[0]\n",
    "    cursor.execute(f\"PRAGMA table_info({table_name})\")\n",
    "    columns = cursor.fetchall()\n",
    "    schema[table_name] = [col[1] for col in columns]\n",
    "print(schema)\n",
    "conn.close()"
   ]
  }
 ],
 "metadata": {
  "kernelspec": {
   "display_name": ".venv",
   "language": "python",
   "name": "python3"
  },
  "language_info": {
   "codemirror_mode": {
    "name": "ipython",
    "version": 3
   },
   "file_extension": ".py",
   "mimetype": "text/x-python",
   "name": "python",
   "nbconvert_exporter": "python",
   "pygments_lexer": "ipython3",
   "version": "3.12.5"
  }
 },
 "nbformat": 4,
 "nbformat_minor": 2
}
